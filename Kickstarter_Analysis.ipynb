{
 "cells": [
  {
   "cell_type": "code",
   "execution_count": 48,
   "metadata": {},
   "outputs": [],
   "source": [

   ]
  },
  {
   "cell_type": "markdown",
   "metadata": {},
   "source": [
    "# Analysis for Kickstarter\n",
    "Kickstarter has established itself as the leading platform for funding creative\n",
    "ventures. Aspiring entrepreneurs in the arts can initiate fundraising campaigns on Kickstarter to support their\n",
    "projects. Some projects have been hugely successful, whereas many others have fallen well short of their\n",
    "fundraising objectives. The attached data file contains sample data on over 4000 Kickstarter fundraising\n",
    "campaigns. Each row contains a summary of each campaign, including the goal and amount pledged, the state\n",
    "of the project in securing funding (e.g., successful, failed), the category of the project (i.e., type of art), and\n",
    "whether the project was featured via a staff pick or spotlight (i.e., on the Kickstarter home page)."
   ]
  },
  {
   "cell_type": "markdown",
   "metadata": {},
   "source": [
    "# 1. Loading the data set. "
   ]
  },
  {
   "cell_type": "code",
   "execution_count": 51,
   "metadata": {},
   "outputs": [
    {
     "data": {
      "text/plain": [
       "array([ 321.       ,  857.0681028, 4431.12     , ...,   50.       ,\n",
       "        220.2370882,  155.       ])"
      ]
     },
     "execution_count": 51,
     "metadata": {},
     "output_type": "execute_result"
    }
   ],
   "source": [
    "#importing all thr required libraries \n",
    "import numpy as np \n",
    "import matplotlib.pyplot as plt\n",
    "import seaborn as sns\n",
    "%matplotlib inline\n",
    "data = np.loadtxt('HW4_kickstarter.csv',delimiter=',',ndmin=1,skiprows=1,usecols=11)\n",
    "data\n"
   ]
  },
  {
   "cell_type": "markdown",
   "metadata": {},
   "source": [
    "# 2. Descriptive statistics"
   ]
  },
  {
   "cell_type": "code",
   "execution_count": 52,
   "metadata": {},
   "outputs": [
    {
     "name": "stdout",
     "output_type": "stream",
     "text": [
      "Total number of projects: 4184\n",
      "Minimum pledged funding is: 0.0\n",
      "Maximum pledged funding is: 111111.77\n",
      "Mean value of the pledged funding value is: 1242.1242686279124\n",
      "Median value of pledged funding value is: 90.0\n",
      "Standard deviation of pledged funding value is: 5177.92798555567\n",
      "The percentage of projects that earned total pledged greater than $2500 is :  0.10516252390057361\n"
     ]
    }
   ],
   "source": [
    "#performing descriptive statistics\n",
    "size=data.size\n",
    "print(\"Total number of projects:\",+size)\n",
    "minimum=data.min()\n",
    "print(\"Minimum pledged funding is:\",+minimum)\n",
    "maximum=data.max()\n",
    "print(\"Maximum pledged funding is:\",+maximum)\n",
    "mean=data.mean()\n",
    "print(\"Mean value of the pledged funding value is:\",+mean)\n",
    "median=np.median(data)\n",
    "print(\"Median value of pledged funding value is:\",+median)\n",
    "std=data.std()\n",
    "print(\"Standard deviation of pledged funding value is:\",+std)\n",
    "count=0\n",
    "\n",
    "#to calculate the percentage of project funding greater than 2500. \n",
    "for i in data: \n",
    "    if i>2500:\n",
    "        count=count+1\n",
    "count\n",
    "\n",
    "percent=count/size\n",
    "print(\"The percentage of projects that earned total pledged greater than $2500 is : \",+percent)\n"
   ]
  },
  {
   "cell_type": "markdown",
   "metadata": {},
   "source": [
    "# 3. Loading project categories."
   ]
  },
  {
   "cell_type": "code",
   "execution_count": 53,
   "metadata": {},
   "outputs": [],
   "source": [
    "category = np.loadtxt('HW4_kickstarter.csv',dtype='str',delimiter=',',ndmin=1,skiprows=1,usecols=12)\n"
   ]
  },
  {
   "cell_type": "markdown",
   "metadata": {},
   "source": [
    "# 4. Visualizing the categories"
   ]
  },
  {
   "cell_type": "code",
   "execution_count": 54,
   "metadata": {},
   "outputs": [
    {
     "name": "stdout",
     "output_type": "stream",
     "text": [
      "['Ceramics' 'Conceptual Art' 'Digital Art' 'Illustration' 'Painting'] [ 204  879 1054  461 1586]\n",
      "[0.04875717 0.21008604 0.25191205 0.11018164 0.3790631 ]\n"
     ]
    },
    {
     "data": {
      "image/png": "[encoded data removed]",
      "text/plain": [
       "<Figure size 432x288 with 1 Axes>"
      ]
     },
     "metadata": {},
     "output_type": "display_data"
    }
   ],
   "source": [
    "#counting the frequencies of the categories and plotting the values \n",
    "values, frequencies = np.unique(category, return_counts=True)\n",
    "title = f'Showing frequencies of {len(category):,} responses'\n",
    "sns.set_style('whitegrid')\n",
    "axes = sns.barplot(x=values, y=frequencies, palette='bright')\n",
    "axes.set_title(title)\n",
    "axes.set(xlabel='Categories', ylabel='Frequency')  \n",
    "axes.set_ylim(top=max(frequencies) * 1.20)\n",
    "\n",
    "percent=frequencies/size\n",
    "print(values,frequencies)\n",
    "print(percent)\n",
    "\n",
    "for bar, frequency in zip(axes.patches, frequencies):\n",
    "    text_x = bar.get_x() + bar.get_width() / 2.0  \n",
    "    text_y = bar.get_height() \n",
    "    text = f'{frequency:,}\\n{frequency / len(category):.3%}'\n",
    "    axes.text(text_x, text_y, text, \n",
    "              fontsize=11, ha='center', va='bottom')"
   ]
  },
  {
   "cell_type": "markdown",
   "metadata": {},
   "source": [
    "# 5. Inferences:\n",
    "\n",
    "1) After looking at the bar chart, we can clearly see that the Painting is the most common category of projects on kickstarter.\n",
    "\n",
    "2) Projects related to ceramics is the least common category of projects on kickstarter.\n"
   ]
  },
  {
   "cell_type": "markdown",
   "metadata": {},
   "source": [
    "# 6. Loading the state data."
   ]
  },
  {
   "cell_type": "code",
   "execution_count": 55,
   "metadata": {},
   "outputs": [],
   "source": [
    "state = np.loadtxt('HW4_kickstarter.csv',dtype='str',delimiter=',',ndmin=1,skiprows=1,usecols=4)\n"
   ]
  },
  {
   "cell_type": "markdown",
   "metadata": {},
   "source": [
    "# 7. Vizualizing the project success for each category"
   ]
  },
  {
   "cell_type": "code",
   "execution_count": 7,
   "metadata": {},
   "outputs": [
    {
     "data": {
      "text/plain": [
       "array([ 84, 322, 286], dtype=int64)"
      ]
     },
     "execution_count": 7,
     "metadata": {},
     "output_type": "execute_result"
    }
   ],
   "source": [
    "# counting unique values of successful projects across different categories\n",
    "success_cat, success_cat_freq = np.unique(category[state == 'successful'], return_counts=True)\n",
    "success_cat\n",
    "success_cat_freq\n"
   ]
  },
  {
   "cell_type": "code",
   "execution_count": 13,
   "metadata": {},
   "outputs": [
    {
     "data": {
      "text/plain": [
       "array([0.41176471, 0.36632537, 0.27134725])"
      ]
     },
     "execution_count": 13,
     "metadata": {},
     "output_type": "execute_result"
    }
   ],
   "source": [
    "#calculating proportion of successful projects among all categories\n",
    "success_cat_count = np.zeros(len(success_cat))\n",
    "for i in range(len(success_cat)):\n",
    "    success_cat_count[i] = len(category[category == success_cat[i]])\n",
    "cat_success_percent = success_cat_freq/success_cat_count\n",
    "cat_success_percent"
   ]
  },
  {
   "cell_type": "code",
   "execution_count": 16,
   "metadata": {},
   "outputs": [
    {
     "data": {
      "image/png": "[encoded data removed]",
      "text/plain": [
       "<Figure size 504x648 with 1 Axes>"
      ]
     },
     "metadata": {
      "needs_background": "light"
     },
     "output_type": "display_data"
    }
   ],
   "source": [
    "#plotting the success rate of each\n",
    "plt.figure(figsize=(7,9))\n",
    "axes = sns.barplot(success_cat, cat_success_percent)\n",
    "plt.title('Success rate for each catagory')\n",
    "plt.ylabel('Success rate')\n",
    "plt.xlabel('Catagories')\n",
    "\n",
    "for bar, frequency in zip(axes.patches, cat_success_percent):\n",
    "    text_x = bar.get_x() + bar.get_width() / 2.0  \n",
    "    text_y = bar.get_height() \n",
    "    text = f'{frequency*100:.2f}%'\n",
    "    axes.text(text_x, text_y, text, \n",
    "              fontsize=11, ha='center', va='bottom')"
   ]
  },
  {
   "cell_type": "markdown",
   "metadata": {},
   "source": [
    "# 8. Loading staff pick and spotlight data"
   ]
  },
  {
   "cell_type": "code",
   "execution_count": 56,
   "metadata": {},
   "outputs": [
    {
     "name": "stdout",
     "output_type": "stream",
     "text": [
      "Number of Staff picked projects\n",
      "FALSE: 3960\n",
      "TRUE: 224\n"
     ]
    }
   ],
   "source": [
    "staff=np.loadtxt('HW4_kickstarter.csv',dtype='str',delimiter=',',ndmin=1,skiprows=1,usecols=8)\n",
    "spot=np.loadtxt('HW4_kickstarter.csv',dtype='str',delimiter=',',ndmin=1,skiprows=1,usecols=13)\n",
    "\n"
   ]
  },
  {
   "cell_type": "markdown",
   "metadata": {},
   "source": [
    "# 9. Classifying projects"
   ]
  },
  {
   "cell_type": "code",
   "execution_count": null,
   "metadata": {},
   "outputs": [],
   "source": [
    "## counting unique values of staff picked projects\n",
    "if_staff, staff_freq = np.unique(staff, return_counts=True)\n",
    "print('Number of Staff picked projects')\n",
    "for i in range(len(if_staff)):\n",
    "    print(if_staff[i] + ': ' + str(staff_freq[i]))\n"
   ]
  },
  {
   "cell_type": "code",
   "execution_count": 57,
   "metadata": {},
   "outputs": [
    {
     "name": "stdout",
     "output_type": "stream",
     "text": [
      "Success rate of Staff picked projects\n",
      "FALSE: 13.36%\n",
      "TRUE: 72.77%\n"
     ]
    }
   ],
   "source": [
    "success_staff, success_staff_freq = np.unique(staff[state == 'successful'], return_counts=True)\n",
    "\n",
    "# calculating Success rate for each kind\n",
    "success_staff_pick = success_staff_freq/staff_freq\n",
    "\n",
    "print('Success rate of Staff picked projects')\n",
    "for i in range(len(if_staff)):\n",
    "    print(if_staff[i] + ': ' + \"{0:.2f}%\".format(100*success_staff_pick[i]))"
   ]
  },
  {
   "cell_type": "code",
   "execution_count": 58,
   "metadata": {},
   "outputs": [
    {
     "name": "stdout",
     "output_type": "stream",
     "text": [
      "Number of Spotlight picked projects\n",
      "FALSE: 3492\n",
      "TRUE: 692\n"
     ]
    }
   ],
   "source": [
    "if_spot, spot_freq = np.unique(spot, return_counts=True)\n",
    "\n",
    "print('Number of Spotlight picked projects')\n",
    "for i in range(len(if_spot)):\n",
    "    print(if_spot[i] + ': ' + str(spot_freq[i]))"
   ]
  },
  {
   "cell_type": "code",
   "execution_count": 60,
   "metadata": {},
   "outputs": [
    {
     "name": "stdout",
     "output_type": "stream",
     "text": [
      "Success rate of Spotlight picked projects\n",
      "FALSE: 19.82%\n",
      "TRUE: 100.00%\n"
     ]
    }
   ],
   "source": [
    "# Success frequency of spot picked projects\n",
    "success_spot, success_spot_freq = np.unique(spot[state == 'successful'], return_counts=True)\n",
    "\n",
    "# Success rate of each kind\n",
    "success_spot_pick = success_spot_freq/spot_freq\n",
    "\n",
    "# print output\n",
    "print('Success rate of Spotlight picked projects')\n",
    "for i in range(len(if_spot)):\n",
    "    print(if_spot[i] + ': ' + \"{0:.2f}%\".format(100*success_spot_pick[i]))"
   ]
  },
  {
   "cell_type": "markdown",
   "metadata": {},
   "source": [
    "# 11. Inferences:\n",
    "1. As we can see from the percentages, that spotlight has more success rate(100%) than staff picked projects.\n",
    "2. However, the failure rate of spotlight projects(19.82%) are more than that of staff picked projects(13.36%)\n"
   ]
  },
  {
   "cell_type": "code",
   "execution_count": 30,
   "metadata": {},
   "outputs": [
    {
     "data": {
      "text/plain": [
       "array(['US', 'SE', 'US', ..., 'US', 'GB', 'US'], dtype='<U2')"
      ]
     },
     "execution_count": 30,
     "metadata": {},
     "output_type": "execute_result"
    }
   ],
   "source": [
    "country=np.loadtxt('HW4_kickstarter.csv',dtype='str',delimiter=',',ndmin=1,skiprows=1,usecols=5)\n",
    "country\n"
   ]
  },
  {
   "cell_type": "code",
   "execution_count": 61,
   "metadata": {},
   "outputs": [
    {
     "name": "stdout",
     "output_type": "stream",
     "text": [
      "List of countries and number of projects\n",
      "AT: 2\n",
      "AU: 79\n",
      "BE: 10\n",
      "CA: 190\n",
      "CH: 6\n",
      "DE: 27\n",
      "DK: 15\n",
      "ES: 19\n",
      "FR: 16\n",
      "GB: 371\n",
      "IE: 8\n",
      "IT: 23\n",
      "NL: 48\n",
      "NO: 6\n",
      "NZ: 5\n",
      "SE: 23\n",
      "US: 3336\n"
     ]
    }
   ],
   "source": [
    "# frequency of projects by countries\n",
    "country_name, country_freq = np.unique(country, return_counts=True)\n",
    "\n",
    "print('List of countries and number of projects')\n",
    "for i in range(len(country_name)):\n",
    "    print(country_name[i] + ': ' + str(country_freq[i]))"
   ]
  },
  {
   "cell_type": "code",
   "execution_count": 40,
   "metadata": {},
   "outputs": [
    {
     "data": {
      "image/png": "[encoded data removed]",
      "text/plain": [
       "<Figure size 504x648 with 1 Axes>"
      ]
     },
     "metadata": {
      "needs_background": "light"
     },
     "output_type": "display_data"
    }
   ],
   "source": [
    "plt.figure(figsize=(7,9))\n",
    "axes = sns.barplot(country_name, country_freq)\n",
    "plt.title('Number of projects by country ')\n",
    "plt.ylabel('Number of projects')\n",
    "plt.xlabel('Countries')\n",
    "\n",
    "for bar, frequency in zip(axes.patches, country_freq):\n",
    "    text_x = bar.get_x() + bar.get_width() / 2.0  \n",
    "    text_y = bar.get_height() \n",
    "    text = f'{frequency:.2f}'\n",
    "    axes.text(text_x, text_y, text, \n",
    "              fontsize=11, ha='center', va='bottom')"
   ]
  },
  {
   "cell_type": "code",
   "execution_count": 62,
   "metadata": {},
   "outputs": [
    {
     "name": "stdout",
     "output_type": "stream",
     "text": [
      "Most popular currencies and number of projects\n",
      "AUD: 79\n",
      "CAD: 190\n",
      "CHF: 6\n",
      "DKK: 15\n",
      "EUR: 153\n",
      "GBP: 371\n",
      "NOK: 6\n",
      "NZD: 5\n",
      "SEK: 23\n",
      "USD: 3336\n"
     ]
    },
    {
     "data": {
      "image/png": "[encoded data removed]",
      "text/plain": [
       "<Figure size 504x648 with 1 Axes>"
      ]
     },
     "metadata": {},
     "output_type": "display_data"
    }
   ],
   "source": [
    "curr=np.loadtxt('HW4_kickstarter.csv',dtype='str',delimiter=',',ndmin=1,skiprows=1,usecols=6)\n",
    "\n",
    "# frequency of currency for different projects.\n",
    "curr_name, curr_freq = np.unique(curr, return_counts=True)\n",
    "\n",
    "\n",
    "print('Most popular currencies and number of projects')\n",
    "for i in range(len(curr_name)):\n",
    "    print(curr_name[i] + ': ' + str(curr_freq[i]))\n",
    "\n",
    "plt.figure(figsize=(7,9))\n",
    "axes = sns.barplot(curr_name, curr_freq)\n",
    "plt.title('Most popular currencies and number of projects')\n",
    "plt.ylabel('Number of projects')\n",
    "plt.xlabel('Currency')\n",
    "\n",
    "for bar, frequency in zip(axes.patches, curr_freq):\n",
    "    text_x = bar.get_x() + bar.get_width() / 2.0  \n",
    "    text_y = bar.get_height() \n",
    "    text = f'{frequency:.2f}'\n",
    "    axes.text(text_x, text_y, text, \n",
    "              fontsize=11, ha='center', va='bottom')"
   ]
  },
  {
   "cell_type": "markdown",
   "metadata": {},
   "source": [
    "# Insights\n",
    "1. Here I have analyzed the countries and the number of projects from all countries.\n",
    "2. We can infer that US has the most number of projects than any other country combined.\n",
    "3. We can say that start up environment/motiavation is more in US than any other countries, and that government policies might be good, that is facilitating new start up ideas. \n",
    "4. We can also infer that since there are so many projects from US alone, there must be a trend amongst people that makes them to consider launching new ideas than working for a company, it promotes entrepreneurship. \n",
    "5. From the currency plot we can see that popular currency of funding is USD and hence justifices that it is correlated with the most projects in the US. "
   ]
  },
  {
   "cell_type": "code",
   "execution_count": 63,
   "metadata": {},
   "outputs": [],
   "source": [
   ]
  }
 ],
 "metadata": {
  "kernelspec": {
   "display_name": "Python 3",
   "language": "python",
   "name": "python3"
  },
  "language_info": {
   "codemirror_mode": {
    "name": "ipython",
    "version": 3
   },
   "file_extension": ".py",
   "mimetype": "text/x-python",
   "name": "python",
   "nbconvert_exporter": "python",
   "pygments_lexer": "ipython3",
   "version": "3.7.3"
  }
 },
 "nbformat": 4,
 "nbformat_minor": 2
}
